{
 "cells": [
  {
   "cell_type": "code",
   "execution_count": 34,
   "metadata": {},
   "outputs": [
    {
     "name": "stdout",
     "output_type": "stream",
     "text": [
      "Found 7917 validated image filenames belonging to 2 classes.\n",
      "Found 7917 validated image filenames belonging to 4 classes.\n",
      "Found 1979 validated image filenames belonging to 2 classes.\n",
      "Found 1979 validated image filenames belonging to 4 classes.\n"
     ]
    }
   ],
   "source": [
    "import numpy as np\n",
    "from sklearn.model_selection import train_test_split\n",
    "import pandas as pd\n",
    "import tensorflow as tf\n",
    "from tensorflow.keras.preprocessing.image import ImageDataGenerator\n",
    "from tensorflow.keras.models import Sequential, load_model\n",
    "from tensorflow.keras.layers import Conv2D, MaxPooling2D, Flatten, Dense, Dropout\n",
    "import os\n",
    "\n",
    "dataLabels = pd.read_csv('Image_classification_data/data_labels_mainData.csv')\n",
    "dataLabels['isCancerous'] = dataLabels['isCancerous'].astype(str)\n",
    "\n",
    "modelToTrain = \"cellType\"# \"isCancerous\" # \n",
    "\n",
    "img_size = (27, 27)\n",
    "batch_size = 32\n",
    "\n",
    "datagen = ImageDataGenerator(\n",
    "    rescale=1./255,\n",
    "    validation_split=0.2\n",
    ")\n",
    "\n",
    "\n",
    "data_dir = 'Image_classification_data/patch_images'  \n",
    "\n",
    "\n",
    "isCancerous_train_data = datagen.flow_from_dataframe(\n",
    "    dataframe=dataLabels,\n",
    "    directory='Image_classification_data/patch_images',\n",
    "    x_col='ImageName', \n",
    "    y_col='isCancerous',  \n",
    "    target_size=img_size,\n",
    "    batch_size=batch_size,\n",
    "    class_mode='binary',\n",
    "    subset='training' \n",
    ")\n",
    "\n",
    "cellType_train_data = datagen.flow_from_dataframe(\n",
    "    dataframe=dataLabels,\n",
    "    directory='Image_classification_data/patch_images',\n",
    "    x_col='ImageName', \n",
    "    y_col='cellTypeName',  \n",
    "    target_size=img_size,\n",
    "    batch_size=batch_size,\n",
    "    class_mode='categorical',\n",
    "    subset='training' \n",
    ")\n",
    "\n",
    "isCancerous_val_data = datagen.flow_from_dataframe(\n",
    "    dataframe=dataLabels,\n",
    "    directory='Image_classification_data/patch_images',\n",
    "    x_col='ImageName',  \n",
    "    y_col='isCancerous',  \n",
    "    target_size=img_size,\n",
    "    batch_size=batch_size,\n",
    "    class_mode='binary',\n",
    "    subset='validation'\n",
    ")\n",
    "\n",
    "cellType_val_data = datagen.flow_from_dataframe(\n",
    "    dataframe=dataLabels,\n",
    "    directory='Image_classification_data/patch_images',\n",
    "    x_col='ImageName',  \n",
    "    y_col='cellTypeName',  \n",
    "    target_size=img_size,\n",
    "    batch_size=batch_size,\n",
    "    class_mode='categorical',\n",
    "    subset='validation'\n",
    ")"
   ]
  },
  {
   "cell_type": "code",
   "execution_count": 35,
   "metadata": {},
   "outputs": [
    {
     "name": "stdout",
     "output_type": "stream",
     "text": [
      "Model loaded successfully.\n"
     ]
    },
    {
     "name": "stderr",
     "output_type": "stream",
     "text": [
      "/home/leo/cancerAI/lib/python3.12/site-packages/keras/src/layers/convolutional/base_conv.py:107: UserWarning: Do not pass an `input_shape`/`input_dim` argument to a layer. When using Sequential models, prefer using an `Input(shape)` object as the first layer in the model instead.\n",
      "  super().__init__(activity_regularizer=activity_regularizer, **kwargs)\n"
     ]
    }
   ],
   "source": [
    "\n",
    "if os.path.exists('isCancerousModel.keras'):\n",
    "    isCancerousModel = load_model('isCancerousModel.keras')  \n",
    "    print(\"Model loaded successfully.\")\n",
    "else:\n",
    "    isCancerousModel = Sequential([\n",
    "        Conv2D(32, (3, 3), activation='relu', input_shape=(27, 27, 3)),\n",
    "        MaxPooling2D(2, 2),\n",
    "            \n",
    "        Conv2D(64, (3, 3), activation='relu'),\n",
    "        MaxPooling2D(2, 2),\n",
    "\n",
    "        Flatten(),\n",
    "        Dropout(0.5),\n",
    "        Dense(64, activation='relu'),\n",
    "        Dense(1, activation='sigmoid') \n",
    "    ])\n",
    "\n",
    "\n",
    "if os.path.exists('cellTypeModel.keras'):\n",
    "    cellTypeModel = load_model('cellTypeModel.keras')  \n",
    "    print(\"Model loaded successfully.\")\n",
    "else:\n",
    "    cellTypeModel = Sequential([\n",
    "        Conv2D(32, (3, 3), activation='relu', input_shape=(27, 27, 3)),\n",
    "        MaxPooling2D(2, 2),\n",
    "            \n",
    "        Conv2D(64, (3, 3), activation='relu'),\n",
    "        MaxPooling2D(2, 2),\n",
    "\n",
    "        Flatten(),\n",
    "        Dropout(0.5),\n",
    "        Dense(64, activation='relu'),\n",
    "        Dense(4, activation='softmax') \n",
    "    ])\n"
   ]
  },
  {
   "cell_type": "code",
   "execution_count": null,
   "metadata": {},
   "outputs": [
    {
     "name": "stdout",
     "output_type": "stream",
     "text": [
      "Epoch 1/30\n"
     ]
    },
    {
     "name": "stderr",
     "output_type": "stream",
     "text": [
      "/home/leo/cancerAI/lib/python3.12/site-packages/keras/src/trainers/data_adapters/py_dataset_adapter.py:121: UserWarning: Your `PyDataset` class should call `super().__init__(**kwargs)` in its constructor. `**kwargs` can include `workers`, `use_multiprocessing`, `max_queue_size`. Do not pass these arguments to `fit()`, as they will be ignored.\n",
      "  self._warn_if_super_not_called()\n",
      "/home/leo/cancerAI/lib/python3.12/site-packages/keras/src/backend/tensorflow/nn.py:666: UserWarning: \"`categorical_crossentropy` received `from_logits=True`, but the `output` argument was produced by a Softmax activation and thus does not represent logits. Was this intended?\n",
      "  output, from_logits = _get_logits(\n"
     ]
    },
    {
     "name": "stdout",
     "output_type": "stream",
     "text": [
      "\u001b[1m248/248\u001b[0m \u001b[32m━━━━━━━━━━━━━━━━━━━━\u001b[0m\u001b[37m\u001b[0m \u001b[1m10s\u001b[0m 28ms/step - categorical_accuracy: 0.4875 - loss: 1.1904 - val_categorical_accuracy: 0.5963 - val_loss: 0.9856\n",
      "Epoch 2/30\n",
      "\u001b[1m248/248\u001b[0m \u001b[32m━━━━━━━━━━━━━━━━━━━━\u001b[0m\u001b[37m\u001b[0m \u001b[1m4s\u001b[0m 17ms/step - categorical_accuracy: 0.6650 - loss: 0.8242 - val_categorical_accuracy: 0.6427 - val_loss: 0.8909\n",
      "Epoch 3/30\n",
      "\u001b[1m248/248\u001b[0m \u001b[32m━━━━━━━━━━━━━━━━━━━━\u001b[0m\u001b[37m\u001b[0m \u001b[1m4s\u001b[0m 16ms/step - categorical_accuracy: 0.6881 - loss: 0.7595 - val_categorical_accuracy: 0.5250 - val_loss: 1.0670\n",
      "Epoch 4/30\n",
      "\u001b[1m248/248\u001b[0m \u001b[32m━━━━━━━━━━━━━━━━━━━━\u001b[0m\u001b[37m\u001b[0m \u001b[1m4s\u001b[0m 15ms/step - categorical_accuracy: 0.7006 - loss: 0.7488 - val_categorical_accuracy: 0.7352 - val_loss: 0.7676\n",
      "Epoch 5/30\n",
      "\u001b[1m248/248\u001b[0m \u001b[32m━━━━━━━━━━━━━━━━━━━━\u001b[0m\u001b[37m\u001b[0m \u001b[1m4s\u001b[0m 15ms/step - categorical_accuracy: 0.7098 - loss: 0.7098 - val_categorical_accuracy: 0.6544 - val_loss: 0.8873\n",
      "Epoch 6/30\n",
      "\u001b[1m248/248\u001b[0m \u001b[32m━━━━━━━━━━━━━━━━━━━━\u001b[0m\u001b[37m\u001b[0m \u001b[1m4s\u001b[0m 16ms/step - categorical_accuracy: 0.7200 - loss: 0.6931 - val_categorical_accuracy: 0.7398 - val_loss: 0.7341\n",
      "Epoch 7/30\n",
      "\u001b[1m248/248\u001b[0m \u001b[32m━━━━━━━━━━━━━━━━━━━━\u001b[0m\u001b[37m\u001b[0m \u001b[1m4s\u001b[0m 15ms/step - categorical_accuracy: 0.7291 - loss: 0.6832 - val_categorical_accuracy: 0.6938 - val_loss: 0.8057\n",
      "Epoch 8/30\n",
      "\u001b[1m248/248\u001b[0m \u001b[32m━━━━━━━━━━━━━━━━━━━━\u001b[0m\u001b[37m\u001b[0m \u001b[1m4s\u001b[0m 16ms/step - categorical_accuracy: 0.7342 - loss: 0.6595 - val_categorical_accuracy: 0.6316 - val_loss: 0.8925\n",
      "Epoch 9/30\n",
      "\u001b[1m248/248\u001b[0m \u001b[32m━━━━━━━━━━━━━━━━━━━━\u001b[0m\u001b[37m\u001b[0m \u001b[1m4s\u001b[0m 14ms/step - categorical_accuracy: 0.7440 - loss: 0.6480 - val_categorical_accuracy: 0.6731 - val_loss: 0.8446\n",
      "Epoch 10/30\n",
      "\u001b[1m248/248\u001b[0m \u001b[32m━━━━━━━━━━━━━━━━━━━━\u001b[0m\u001b[37m\u001b[0m \u001b[1m4s\u001b[0m 14ms/step - categorical_accuracy: 0.7468 - loss: 0.6313 - val_categorical_accuracy: 0.7211 - val_loss: 0.7940\n",
      "Epoch 11/30\n",
      "\u001b[1m248/248\u001b[0m \u001b[32m━━━━━━━━━━━━━━━━━━━━\u001b[0m\u001b[37m\u001b[0m \u001b[1m4s\u001b[0m 14ms/step - categorical_accuracy: 0.7424 - loss: 0.6428 - val_categorical_accuracy: 0.7221 - val_loss: 0.7769\n",
      "Epoch 12/30\n",
      "\u001b[1m248/248\u001b[0m \u001b[32m━━━━━━━━━━━━━━━━━━━━\u001b[0m\u001b[37m\u001b[0m \u001b[1m4s\u001b[0m 15ms/step - categorical_accuracy: 0.7629 - loss: 0.5952 - val_categorical_accuracy: 0.7595 - val_loss: 0.7263\n",
      "Epoch 13/30\n",
      "\u001b[1m248/248\u001b[0m \u001b[32m━━━━━━━━━━━━━━━━━━━━\u001b[0m\u001b[37m\u001b[0m \u001b[1m4s\u001b[0m 15ms/step - categorical_accuracy: 0.7668 - loss: 0.5956 - val_categorical_accuracy: 0.7261 - val_loss: 0.7483\n",
      "Epoch 14/30\n",
      "\u001b[1m248/248\u001b[0m \u001b[32m━━━━━━━━━━━━━━━━━━━━\u001b[0m\u001b[37m\u001b[0m \u001b[1m4s\u001b[0m 15ms/step - categorical_accuracy: 0.7715 - loss: 0.5958 - val_categorical_accuracy: 0.7226 - val_loss: 0.7674\n",
      "Epoch 15/30\n",
      "\u001b[1m248/248\u001b[0m \u001b[32m━━━━━━━━━━━━━━━━━━━━\u001b[0m\u001b[37m\u001b[0m \u001b[1m4s\u001b[0m 15ms/step - categorical_accuracy: 0.7776 - loss: 0.5746 - val_categorical_accuracy: 0.6776 - val_loss: 0.8159\n",
      "Epoch 16/30\n",
      "\u001b[1m248/248\u001b[0m \u001b[32m━━━━━━━━━━━━━━━━━━━━\u001b[0m\u001b[37m\u001b[0m \u001b[1m4s\u001b[0m 15ms/step - categorical_accuracy: 0.7754 - loss: 0.5729 - val_categorical_accuracy: 0.7185 - val_loss: 0.7872\n",
      "Epoch 17/30\n",
      "\u001b[1m248/248\u001b[0m \u001b[32m━━━━━━━━━━━━━━━━━━━━\u001b[0m\u001b[37m\u001b[0m \u001b[1m4s\u001b[0m 15ms/step - categorical_accuracy: 0.7823 - loss: 0.5675 - val_categorical_accuracy: 0.7332 - val_loss: 0.7412\n",
      "Epoch 18/30\n",
      "\u001b[1m248/248\u001b[0m \u001b[32m━━━━━━━━━━━━━━━━━━━━\u001b[0m\u001b[37m\u001b[0m \u001b[1m3s\u001b[0m 14ms/step - categorical_accuracy: 0.7846 - loss: 0.5490 - val_categorical_accuracy: 0.7125 - val_loss: 0.7634\n",
      "Epoch 19/30\n",
      "\u001b[1m248/248\u001b[0m \u001b[32m━━━━━━━━━━━━━━━━━━━━\u001b[0m\u001b[37m\u001b[0m \u001b[1m4s\u001b[0m 15ms/step - categorical_accuracy: 0.7961 - loss: 0.5269 - val_categorical_accuracy: 0.6508 - val_loss: 0.9038\n",
      "Epoch 20/30\n",
      "\u001b[1m248/248\u001b[0m \u001b[32m━━━━━━━━━━━━━━━━━━━━\u001b[0m\u001b[37m\u001b[0m \u001b[1m4s\u001b[0m 15ms/step - categorical_accuracy: 0.7894 - loss: 0.5513 - val_categorical_accuracy: 0.6837 - val_loss: 0.8426\n",
      "Epoch 21/30\n",
      "\u001b[1m248/248\u001b[0m \u001b[32m━━━━━━━━━━━━━━━━━━━━\u001b[0m\u001b[37m\u001b[0m \u001b[1m4s\u001b[0m 15ms/step - categorical_accuracy: 0.7828 - loss: 0.5434 - val_categorical_accuracy: 0.6877 - val_loss: 0.8334\n",
      "Epoch 22/30\n",
      "\u001b[1m248/248\u001b[0m \u001b[32m━━━━━━━━━━━━━━━━━━━━\u001b[0m\u001b[37m\u001b[0m \u001b[1m4s\u001b[0m 15ms/step - categorical_accuracy: 0.8066 - loss: 0.5054 - val_categorical_accuracy: 0.6842 - val_loss: 0.8149\n",
      "Epoch 23/30\n",
      "\u001b[1m248/248\u001b[0m \u001b[32m━━━━━━━━━━━━━━━━━━━━\u001b[0m\u001b[37m\u001b[0m \u001b[1m4s\u001b[0m 14ms/step - categorical_accuracy: 0.8012 - loss: 0.5140 - val_categorical_accuracy: 0.7135 - val_loss: 0.7899\n",
      "Epoch 24/30\n",
      "\u001b[1m248/248\u001b[0m \u001b[32m━━━━━━━━━━━━━━━━━━━━\u001b[0m\u001b[37m\u001b[0m \u001b[1m4s\u001b[0m 14ms/step - categorical_accuracy: 0.8032 - loss: 0.5097 - val_categorical_accuracy: 0.7024 - val_loss: 0.7911\n",
      "Epoch 25/30\n",
      "\u001b[1m248/248\u001b[0m \u001b[32m━━━━━━━━━━━━━━━━━━━━\u001b[0m\u001b[37m\u001b[0m \u001b[1m4s\u001b[0m 15ms/step - categorical_accuracy: 0.8027 - loss: 0.4948 - val_categorical_accuracy: 0.6872 - val_loss: 0.8411\n",
      "Epoch 26/30\n",
      "\u001b[1m248/248\u001b[0m \u001b[32m━━━━━━━━━━━━━━━━━━━━\u001b[0m\u001b[37m\u001b[0m \u001b[1m4s\u001b[0m 15ms/step - categorical_accuracy: 0.8179 - loss: 0.4760 - val_categorical_accuracy: 0.7009 - val_loss: 0.8096\n",
      "Epoch 27/30\n",
      "\u001b[1m248/248\u001b[0m \u001b[32m━━━━━━━━━━━━━━━━━━━━\u001b[0m\u001b[37m\u001b[0m \u001b[1m4s\u001b[0m 15ms/step - categorical_accuracy: 0.8149 - loss: 0.4816 - val_categorical_accuracy: 0.7089 - val_loss: 0.7999\n",
      "Epoch 28/30\n",
      "\u001b[1m  7/248\u001b[0m \u001b[37m━━━━━━━━━━━━━━━━━━━━\u001b[0m \u001b[1m2s\u001b[0m 9ms/step - categorical_accuracy: 0.8226 - loss: 0.4772 "
     ]
    }
   ],
   "source": [
    "if modelToTrain == \"isCancerous\":\n",
    "    isCancerousModel.compile(\n",
    "        optimizer='adam',\n",
    "        loss='binary_crossentropy',\n",
    "        metrics=['accuracy']\n",
    "    )\n",
    "\n",
    "    isCancerousModel.fit(\n",
    "        isCancerous_train_data,\n",
    "        validation_data=isCancerous_val_data,\n",
    "        epochs=10\n",
    "    )\n",
    "elif modelToTrain == \"cellType\":\n",
    "    cellTypeModel.compile(\n",
    "    optimizer='adam',\n",
    "    loss=tf.keras.losses.CategoricalCrossentropy(from_logits=True),\n",
    "    metrics=['categorical_accuracy']\n",
    "    )\n",
    "\n",
    "    cellTypeModel.fit(\n",
    "        cellType_train_data,\n",
    "        validation_data=cellType_val_data,\n",
    "        epochs=30\n",
    "    ) \n",
    "\n",
    "else: print(\"invalid model name\")"
   ]
  },
  {
   "cell_type": "code",
   "execution_count": null,
   "metadata": {},
   "outputs": [
    {
     "name": "stdout",
     "output_type": "stream",
     "text": [
      "\u001b[1m62/62\u001b[0m \u001b[32m━━━━━━━━━━━━━━━━━━━━\u001b[0m\u001b[37m\u001b[0m \u001b[1m1s\u001b[0m 15ms/step - accuracy: 0.8653 - loss: 0.3951\n"
     ]
    }
   ],
   "source": [
    "if modelToTrain == \"isCancerous\":\n",
    "    print(\"Is cancerous: \")\n",
    "    isCancerousModel.evaluate(isCancerous_val_data)\n",
    "    isCancerousModel.save('isCancerousModel.keras')\n",
    "\n",
    "elif modelToTrain == \"cellType\":\n",
    "    print(\"Cell type: \")\n",
    "    cellTypeModel.evaluate(cellType_val_data)\n",
    "    cellTypeModel.save('cellTypeModel.keras')"
   ]
  }
 ],
 "metadata": {
  "kernelspec": {
   "display_name": "Python (cancer-AI)",
   "language": "python",
   "name": "cancerai"
  },
  "language_info": {
   "codemirror_mode": {
    "name": "ipython",
    "version": 3
   },
   "file_extension": ".py",
   "mimetype": "text/x-python",
   "name": "python",
   "nbconvert_exporter": "python",
   "pygments_lexer": "ipython3",
   "version": "3.12.3"
  }
 },
 "nbformat": 4,
 "nbformat_minor": 2
}
