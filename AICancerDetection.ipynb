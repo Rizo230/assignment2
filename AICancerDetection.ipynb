{
 "cells": [
  {
   "cell_type": "code",
   "execution_count": null,
   "metadata": {},
   "outputs": [
    {
     "name": "stdout",
     "output_type": "stream",
     "text": [
      "Found 7917 validated image filenames belonging to 2 classes.\n",
      "Found 7917 validated image filenames belonging to 4 classes.\n",
      "Found 1979 validated image filenames belonging to 2 classes.\n",
      "Found 1979 validated image filenames belonging to 4 classes.\n"
     ]
    },
    {
     "data": {
      "text/plain": [
       "isCancerous\n",
       "0    5817\n",
       "1    4079\n",
       "Name: count, dtype: int64"
      ]
     },
     "execution_count": 168,
     "metadata": {},
     "output_type": "execute_result"
    }
   ],
   "source": [
    "import numpy as np\n",
    "import os\n",
    "import pandas as pd\n",
    "import tensorflow as tf\n",
    "from tensorflow.keras.preprocessing.image import ImageDataGenerator\n",
    "from tensorflow.keras.models import Sequential, load_model\n",
    "from tensorflow.keras.layers import Conv2D, MaxPooling2D, Flatten, Dense, Dropout\n",
    "from tensorflow.keras.callbacks import EarlyStopping\n",
    "from sklearn.metrics import classification_report\n",
    "\n",
    "\n",
    "dataLabels = pd.read_csv('Image_classification_data/data_labels_mainData.csv')\n",
    "dataLabels['isCancerous'] = dataLabels['isCancerous'].astype(str)\n",
    "\n",
    "modelToTrain =  \"both\" # \"cellType\" # \"isCancerous\" # \n",
    "\n",
    "img_size = (27, 27)\n",
    "batch_size = 32\n",
    "\n",
    "datagen = ImageDataGenerator(\n",
    "    rescale=1./255,\n",
    "    validation_split=0.2,\n",
    "    rotation_range=10,\n",
    "    width_shift_range=0.1,\n",
    "    height_shift_range=0.1,\n",
    "    zoom_range=0.1,\n",
    "    horizontal_flip=True\n",
    ")\n",
    "\n",
    "early_stop = EarlyStopping(\n",
    "    monitor='val_loss',\n",
    "    patience=5,\n",
    "    restore_best_weights=True\n",
    ")\n",
    "\n",
    "\n",
    "data_dir = 'Image_classification_data/patch_images'  \n",
    "\n",
    "\n",
    "isCancerous_train_data = datagen.flow_from_dataframe(\n",
    "    dataframe=dataLabels,\n",
    "    directory='Image_classification_data/patch_images',\n",
    "    x_col='ImageName', \n",
    "    y_col='isCancerous',  \n",
    "    target_size=img_size,\n",
    "    batch_size=batch_size,\n",
    "    class_mode='binary',\n",
    "    subset='training' \n",
    ")\n",
    "\n",
    "cellType_train_data = datagen.flow_from_dataframe(\n",
    "    dataframe=dataLabels,\n",
    "    directory='Image_classification_data/patch_images',\n",
    "    x_col='ImageName', \n",
    "    y_col='cellTypeName',  \n",
    "    target_size=img_size,\n",
    "    batch_size=batch_size,\n",
    "    class_mode='categorical',\n",
    "    subset='training' \n",
    ")\n",
    "\n",
    "isCancerous_val_data = datagen.flow_from_dataframe(\n",
    "    dataframe=dataLabels,\n",
    "    directory='Image_classification_data/patch_images',\n",
    "    x_col='ImageName',  \n",
    "    y_col='isCancerous',  \n",
    "    target_size=img_size,\n",
    "    batch_size=batch_size,\n",
    "    class_mode='binary',\n",
    "    subset='validation'\n",
    ")\n",
    "\n",
    "cellType_val_data = datagen.flow_from_dataframe(\n",
    "    dataframe=dataLabels,\n",
    "    directory='Image_classification_data/patch_images',\n",
    "    x_col='ImageName',  \n",
    "    y_col='cellTypeName',  \n",
    "    target_size=img_size,\n",
    "    batch_size=batch_size,\n",
    "    class_mode='categorical',\n",
    "    subset='validation'\n",
    ")\n",
    "\n",
    "dataLabels['isCancerous'].value_counts()"
   ]
  },
  {
   "cell_type": "code",
   "execution_count": 169,
   "metadata": {},
   "outputs": [
    {
     "name": "stdout",
     "output_type": "stream",
     "text": [
      "isCancerous model loaded successfully.\n",
      "cellType model loaded successfully.\n"
     ]
    }
   ],
   "source": [
    "reg_lambda = 0.001\n",
    "\n",
    "\n",
    "if os.path.exists('isCancerousModel.keras'):\n",
    "    isCancerousModel = load_model('isCancerousModel.keras')  \n",
    "    print(\"isCancerous model loaded successfully.\")\n",
    "else:\n",
    "    isCancerousModel = Sequential([\n",
    "        Conv2D(32, (3, 3), activation='relu', padding='same', input_shape=(27, 27, 3)), \n",
    "        Conv2D(32, (3, 3), activation='relu', padding='same'), \n",
    "        MaxPooling2D(2, 2),\n",
    "            \n",
    "        Conv2D(64, (3, 3), padding='same', activation='relu'),\n",
    "        Conv2D(64, (3, 3), padding='same', activation='relu'),\n",
    "        MaxPooling2D(2, 2),\n",
    "\n",
    "        Conv2D(128, (3, 3), padding='same', activation='relu'),\n",
    "        Conv2D(128, (3, 3), padding='same', activation='relu'),\n",
    "        MaxPooling2D(2, 2),\n",
    "\n",
    "        Flatten(),\n",
    "        Dropout(0.5),\n",
    "        Dense(64, activation='relu'),\n",
    "        Dense(1, activation='sigmoid') \n",
    "    ])\n",
    "    print(\"No isCancerous model found, creating new one\")\n",
    "\n",
    "\n",
    "if os.path.exists('cellTypeModel.keras'):\n",
    "    cellTypeModel = load_model('cellTypeModel.keras')  \n",
    "    print(\"cellType model loaded successfully.\")\n",
    "else:\n",
    "    cellTypeModel = Sequential([\n",
    "        Conv2D(32, (3, 3), activation='relu', padding='same', input_shape=(27, 27, 3)),\n",
    "        Conv2D(32, (3, 3), activation='relu', padding='same'),\n",
    "        MaxPooling2D(2, 2),\n",
    "            \n",
    "        Conv2D(64, (3, 3), padding='same', activation='relu'),\n",
    "        Conv2D(64, (3, 3), padding='same', activation='relu'),\n",
    "        MaxPooling2D(2, 2),\n",
    "\n",
    "        Flatten(),\n",
    "        Dropout(0.5),\n",
    "        Dense(64, activation='relu'),\n",
    "        Dense(4, activation='softmax') \n",
    "    ])\n",
    "    print(\"No cellType model found, creating new one\")\n"
   ]
  },
  {
   "cell_type": "code",
   "execution_count": 170,
   "metadata": {},
   "outputs": [
    {
     "name": "stdout",
     "output_type": "stream",
     "text": [
      "Epoch 1/50\n"
     ]
    },
    {
     "name": "stderr",
     "output_type": "stream",
     "text": [
      "/home/leo/cancerAI/lib/python3.12/site-packages/keras/src/trainers/data_adapters/py_dataset_adapter.py:121: UserWarning: Your `PyDataset` class should call `super().__init__(**kwargs)` in its constructor. `**kwargs` can include `workers`, `use_multiprocessing`, `max_queue_size`. Do not pass these arguments to `fit()`, as they will be ignored.\n",
      "  self._warn_if_super_not_called()\n"
     ]
    },
    {
     "name": "stdout",
     "output_type": "stream",
     "text": [
      "\u001b[1m248/248\u001b[0m \u001b[32m━━━━━━━━━━━━━━━━━━━━\u001b[0m\u001b[37m\u001b[0m \u001b[1m17s\u001b[0m 51ms/step - accuracy: 0.8755 - loss: 0.3111 - val_accuracy: 0.9020 - val_loss: 0.2621\n",
      "Epoch 2/50\n",
      "\u001b[1m248/248\u001b[0m \u001b[32m━━━━━━━━━━━━━━━━━━━━\u001b[0m\u001b[37m\u001b[0m \u001b[1m9s\u001b[0m 35ms/step - accuracy: 0.8871 - loss: 0.2697 - val_accuracy: 0.8706 - val_loss: 0.2835\n",
      "Epoch 3/50\n",
      "\u001b[1m248/248\u001b[0m \u001b[32m━━━━━━━━━━━━━━━━━━━━\u001b[0m\u001b[37m\u001b[0m \u001b[1m8s\u001b[0m 34ms/step - accuracy: 0.8872 - loss: 0.2672 - val_accuracy: 0.8868 - val_loss: 0.2686\n",
      "Epoch 4/50\n",
      "\u001b[1m248/248\u001b[0m \u001b[32m━━━━━━━━━━━━━━━━━━━━\u001b[0m\u001b[37m\u001b[0m \u001b[1m8s\u001b[0m 34ms/step - accuracy: 0.8782 - loss: 0.2959 - val_accuracy: 0.8969 - val_loss: 0.2756\n",
      "Epoch 5/50\n",
      "\u001b[1m248/248\u001b[0m \u001b[32m━━━━━━━━━━━━━━━━━━━━\u001b[0m\u001b[37m\u001b[0m \u001b[1m8s\u001b[0m 33ms/step - accuracy: 0.8938 - loss: 0.2548 - val_accuracy: 0.8792 - val_loss: 0.2842\n",
      "Epoch 6/50\n",
      "\u001b[1m248/248\u001b[0m \u001b[32m━━━━━━━━━━━━━━━━━━━━\u001b[0m\u001b[37m\u001b[0m \u001b[1m8s\u001b[0m 32ms/step - accuracy: 0.8998 - loss: 0.2436 - val_accuracy: 0.8888 - val_loss: 0.2910\n",
      "Epoch 1/50\n"
     ]
    },
    {
     "name": "stderr",
     "output_type": "stream",
     "text": [
      "/home/leo/cancerAI/lib/python3.12/site-packages/keras/src/backend/tensorflow/nn.py:666: UserWarning: \"`categorical_crossentropy` received `from_logits=True`, but the `output` argument was produced by a Softmax activation and thus does not represent logits. Was this intended?\n",
      "  output, from_logits = _get_logits(\n"
     ]
    },
    {
     "name": "stdout",
     "output_type": "stream",
     "text": [
      "\u001b[1m248/248\u001b[0m \u001b[32m━━━━━━━━━━━━━━━━━━━━\u001b[0m\u001b[37m\u001b[0m \u001b[1m16s\u001b[0m 51ms/step - categorical_accuracy: 0.7297 - loss: 0.6858 - val_categorical_accuracy: 0.7034 - val_loss: 0.8092\n",
      "Epoch 2/50\n",
      "\u001b[1m248/248\u001b[0m \u001b[32m━━━━━━━━━━━━━━━━━━━━\u001b[0m\u001b[37m\u001b[0m \u001b[1m9s\u001b[0m 34ms/step - categorical_accuracy: 0.7452 - loss: 0.6493 - val_categorical_accuracy: 0.6700 - val_loss: 0.8464\n",
      "Epoch 3/50\n",
      "\u001b[1m248/248\u001b[0m \u001b[32m━━━━━━━━━━━━━━━━━━━━\u001b[0m\u001b[37m\u001b[0m \u001b[1m9s\u001b[0m 36ms/step - categorical_accuracy: 0.7548 - loss: 0.6274 - val_categorical_accuracy: 0.7352 - val_loss: 0.7527\n",
      "Epoch 4/50\n",
      "\u001b[1m248/248\u001b[0m \u001b[32m━━━━━━━━━━━━━━━━━━━━\u001b[0m\u001b[37m\u001b[0m \u001b[1m9s\u001b[0m 37ms/step - categorical_accuracy: 0.7613 - loss: 0.6060 - val_categorical_accuracy: 0.7256 - val_loss: 0.7328\n",
      "Epoch 5/50\n",
      "\u001b[1m248/248\u001b[0m \u001b[32m━━━━━━━━━━━━━━━━━━━━\u001b[0m\u001b[37m\u001b[0m \u001b[1m9s\u001b[0m 36ms/step - categorical_accuracy: 0.7612 - loss: 0.5938 - val_categorical_accuracy: 0.6862 - val_loss: 0.8658\n",
      "Epoch 6/50\n",
      "\u001b[1m248/248\u001b[0m \u001b[32m━━━━━━━━━━━━━━━━━━━━\u001b[0m\u001b[37m\u001b[0m \u001b[1m9s\u001b[0m 35ms/step - categorical_accuracy: 0.7538 - loss: 0.6023 - val_categorical_accuracy: 0.6877 - val_loss: 0.8138\n",
      "Epoch 7/50\n",
      "\u001b[1m248/248\u001b[0m \u001b[32m━━━━━━━━━━━━━━━━━━━━\u001b[0m\u001b[37m\u001b[0m \u001b[1m9s\u001b[0m 38ms/step - categorical_accuracy: 0.7757 - loss: 0.5716 - val_categorical_accuracy: 0.7054 - val_loss: 0.7815\n",
      "Epoch 8/50\n",
      "\u001b[1m248/248\u001b[0m \u001b[32m━━━━━━━━━━━━━━━━━━━━\u001b[0m\u001b[37m\u001b[0m \u001b[1m9s\u001b[0m 35ms/step - categorical_accuracy: 0.7767 - loss: 0.5728 - val_categorical_accuracy: 0.6908 - val_loss: 0.8217\n",
      "Epoch 9/50\n",
      "\u001b[1m248/248\u001b[0m \u001b[32m━━━━━━━━━━━━━━━━━━━━\u001b[0m\u001b[37m\u001b[0m \u001b[1m9s\u001b[0m 38ms/step - categorical_accuracy: 0.7796 - loss: 0.5540 - val_categorical_accuracy: 0.6518 - val_loss: 0.8567\n"
     ]
    }
   ],
   "source": [
    "if modelToTrain == \"isCancerous\" or modelToTrain == \"both\":\n",
    "    isCancerousModel.compile(\n",
    "        optimizer='adam',\n",
    "        loss='binary_crossentropy',\n",
    "        metrics=['accuracy']\n",
    "    )\n",
    "\n",
    "    isCancerousModel.fit(\n",
    "        isCancerous_train_data,\n",
    "        validation_data=isCancerous_val_data,\n",
    "        epochs=50,\n",
    "        callbacks=[early_stop],\n",
    "    )\n",
    "if modelToTrain == \"cellType\" or modelToTrain == \"both\":\n",
    "    cellTypeModel.compile(\n",
    "    optimizer='adam',\n",
    "    loss=tf.keras.losses.CategoricalCrossentropy(from_logits=True),\n",
    "    metrics=['categorical_accuracy']\n",
    "    )\n",
    "\n",
    "    cellTypeModel.fit(\n",
    "        cellType_train_data,\n",
    "        validation_data=cellType_val_data,\n",
    "        epochs=50,\n",
    "        callbacks=[early_stop],\n",
    "    )"
   ]
  },
  {
   "cell_type": "code",
   "execution_count": null,
   "metadata": {},
   "outputs": [
    {
     "name": "stdout",
     "output_type": "stream",
     "text": [
      "Is cancerous: \n",
      "\u001b[1m62/62\u001b[0m \u001b[32m━━━━━━━━━━━━━━━━━━━━\u001b[0m\u001b[37m\u001b[0m \u001b[1m2s\u001b[0m 29ms/step - accuracy: 0.9050 - loss: 0.2717\n",
      "Cell type: \n",
      "\u001b[1m62/62\u001b[0m \u001b[32m━━━━━━━━━━━━━━━━━━━━\u001b[0m\u001b[37m\u001b[0m \u001b[1m2s\u001b[0m 27ms/step - categorical_accuracy: 0.7350 - loss: 0.7153\n"
     ]
    }
   ],
   "source": [
    "if modelToTrain == \"isCancerous\" or modelToTrain == \"both\":\n",
    "    print(\"Is cancerous: \")\n",
    "    isCancerousModel.evaluate(isCancerous_val_data)\n",
    "    isCancerousModel.save('isCancerousModel.keras')\n",
    "\n",
    "if modelToTrain == \"cellType\" or modelToTrain == \"both\":\n",
    "    print(\"Cell type: \")\n",
    "    cellTypeModel.evaluate(cellType_val_data)\n",
    "    cellTypeModel.save('cellTypeModel.keras')\n",
    "\n",
    "y_true = isCancerous_val_data.classes\n",
    "y_pred = (isCancerousModel.predict(isCancerous_val_data) > 0.5).astype(int)\n",
    "\n",
    "print(classification_report(y_true, y_pred))"
   ]
  },
  {
   "cell_type": "code",
   "execution_count": null,
   "metadata": {},
   "outputs": [],
   "source": []
  }
 ],
 "metadata": {
  "kernelspec": {
   "display_name": "Python (cancer-AI)",
   "language": "python",
   "name": "cancerai"
  },
  "language_info": {
   "codemirror_mode": {
    "name": "ipython",
    "version": 3
   },
   "file_extension": ".py",
   "mimetype": "text/x-python",
   "name": "python",
   "nbconvert_exporter": "python",
   "pygments_lexer": "ipython3",
   "version": "3.12.3"
  }
 },
 "nbformat": 4,
 "nbformat_minor": 2
}
